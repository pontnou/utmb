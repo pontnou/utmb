{
 "cells": [
  {
   "cell_type": "markdown",
   "metadata": {},
   "source": [
    " # Exploración"
   ]
  },
  {
   "cell_type": "markdown",
   "metadata": {},
   "source": [
    " ## Imports"
   ]
  },
  {
   "cell_type": "code",
   "execution_count": 22,
   "metadata": {},
   "outputs": [],
   "source": [
    "import os\n",
    "import numpy as np\n",
    "import pandas as pd\n",
    "from IPython.display import display\n"
   ]
  },
  {
   "cell_type": "markdown",
   "metadata": {},
   "source": [
    " ## Lectura del fichero de datos"
   ]
  },
  {
   "cell_type": "code",
   "execution_count": 23,
   "metadata": {},
   "outputs": [],
   "source": [
    "file = '.\\\\data\\\\utmb.1.csv'\n",
    "df = pd.read_csv(file, low_memory=False)\n",
    "pd.set_option('display.max_columns', df.shape[1])\n",
    "# todo uncomment\n",
    "# df[:3]\n"
   ]
  },
  {
   "cell_type": "markdown",
   "metadata": {},
   "source": [
    " ## Conversión de tipos de columnas"
   ]
  },
  {
   "cell_type": "markdown",
   "metadata": {},
   "source": [
    " #### Las columnas con la etiqueta crono están situadas a partir del índice 8. Las recuperamos directamente sin pasar por el mapa de columnas. Verificamos al final que podemos operar con los valores correctamente con una resta de tiempos cualquiera."
   ]
  },
  {
   "cell_type": "code",
   "execution_count": 24,
   "metadata": {},
   "outputs": [
    {
     "name": "stdout",
     "output_type": "stream",
     "text": [
      "Time\n",
      "Timediff\n",
      "ColDeVoza\n",
      "LaCharme\n",
      "Delevret\n",
      "StGervais\n",
      "Contamines\n",
      "LaBalme\n",
      "ContaR\n",
      "Bellevue\n",
      "LesHouches\n",
      "GarePp\n",
      "Bonhomme\n",
      "Chapieux\n",
      "ColSeigne\n",
      "RefugeElisabetta\n",
      "LacCombal\n",
      "MtFavre\n",
      "Checrouit\n",
      "Courmayeur\n",
      "Courmayeur2\n",
      "Bertone\n",
      "RifugioElena\n",
      "Bonatti\n",
      "Arnouvaz\n",
      "ColFerret\n",
      "LaPeule\n",
      "LaFouly\n",
      "PrazDeFort\n",
      "Champex\n",
      "Martigny\n",
      "Bovinette\n",
      "LaGiete\n",
      "Trient\n",
      "Tseppes\n",
      "Catogne\n",
      "Vallorcine\n",
      "ColDesMontets\n",
      "LaTeteAuxVents\n",
      "LaFlegere\n",
      "Argentiere\n",
      "Gardes\n",
      "1km\n",
      "Arrivee\n"
     ]
    },
    {
     "data": {
      "text/plain": [
       "Timedelta('0 days 00:41:08')"
      ]
     },
     "execution_count": 27,
     "metadata": {},
     "output_type": "execute_result"
    }
   ],
   "source": [
    "cronos = list(df)[8:]\n",
    "for crono in cronos:\n",
    "    print(crono)\n",
    "    td = pd.to_timedelta(df[crono])\n",
    "    df[crono] = td\n",
    "\n",
    "df.Time[30] - df.Time[29]\n"
   ]
  },
  {
   "cell_type": "markdown",
   "metadata": {},
   "source": [
    " ## Verificaciones"
   ]
  },
  {
   "cell_type": "markdown",
   "metadata": {},
   "source": [
    " #### De entrada haremos algunas verificaciones básicas. Empezamos por comprobar la variable ```Arrivee```."
   ]
  },
  {
   "cell_type": "code",
   "execution_count": 25,
   "metadata": {},
   "outputs": [
    {
     "data": {
      "text/plain": [
       "Year\n",
       "2012   10:32:36\n",
       "2017   19:01:54\n",
       "2014   20:11:44\n",
       "2013   20:34:57\n",
       "2011   20:36:43\n",
       "2008   20:56:59\n",
       "2006   21:06:06\n",
       "2004   21:06:18\n",
       "2015   21:09:15\n",
       "2005   21:11:07\n",
       "2007   21:31:58\n",
       "2009   21:33:18\n",
       "2016   22:00:02\n",
       "2003        NaT\n",
       "2010        NaT\n",
       "Name: Arrivee, dtype: timedelta64[ns]"
      ]
     },
     "execution_count": 28,
     "metadata": {},
     "output_type": "execute_result"
    }
   ],
   "source": [
    "df.groupby('Year')['Arrivee'].min().sort_values()\n"
   ]
  },
  {
   "cell_type": "markdown",
   "metadata": {},
   "source": [
    " #### Se ven tres valores anómalos\n",
    " 1. 2012 El tiempo de llegada es la mitad de los demás años informados.\n",
    " 2. 2003 No hay tiempo de llegada.\n",
    " 3. 2010 No hay tiempo de llegada."
   ]
  },
  {
   "cell_type": "markdown",
   "metadata": {},
   "source": [
    " #### Preparamos una función auxiliar para recuperar solamente los datos de las columnas con información, el variopinto esquema de cada año hace que en muchas variables no haya ningún dato; de esta manera podemos realizar el análisis con menos ruido."
   ]
  },
  {
   "cell_type": "code",
   "execution_count": 26,
   "metadata": {},
   "outputs": [],
   "source": [
    "# función auxiliar para recuperar un año  eliminando las\n",
    "# columnas con todos los valores nans\n",
    "\n",
    "\n",
    "def get_year(df, year):\n",
    "    year_df = df.loc[df.Year == year]\n",
    "    notnas = year_df.columns[year_df.notna().any()].tolist()\n",
    "    return year_df[notnas]\n"
   ]
  },
  {
   "cell_type": "markdown",
   "metadata": {},
   "source": [
    " #### Año 2012"
   ]
  },
  {
   "cell_type": "code",
   "execution_count": 27,
   "metadata": {},
   "outputs": [],
   "source": [
    "# todo uncomment\n",
    "# get_year(df, 2012)[:3]\n"
   ]
  },
  {
   "cell_type": "markdown",
   "metadata": {},
   "source": [
    " #### Para 2012 vemos que los datos son correctos y parecen razonables, pero los puntos de paso y los tiempos indican que se trata de otra carrera. No podremos utilizar este año para contrastarlo con los demás. Como ni siquiera sabemos de qué carrera se trata, vamos a excluirlo directamente del resto del análisis. Hay que borrar las observaciones cuyo año es 2012 y, después, eliminar las variables exclusivas de ese año sabiendo que no tienen datos."
   ]
  },
  {
   "cell_type": "code",
   "execution_count": 28,
   "metadata": {},
   "outputs": [
    {
     "data": {
      "text/plain": [
       "['ContaR', 'Bellevue', 'LesHouches', 'GarePp', '1km']"
      ]
     },
     "metadata": {},
     "output_type": "display_data"
    },
    {
     "data": {
      "text/plain": [
       "(30288, 47)"
      ]
     },
     "metadata": {},
     "output_type": "display_data"
    }
   ],
   "source": [
    "# excluimos las observaciones del año 2012 (es otra carrera)\n",
    "df = df[df.Year != 2012]\n",
    "# localizamos sus variables exclusivas sabiendo que serán nans\n",
    "empties = df.columns[df.isna().all()].tolist()\n",
    "display(empties)\n",
    "# las borramos del dataframe\n",
    "df.drop(columns=empties, inplace=True)\n",
    "display(df.shape)\n"
   ]
  },
  {
   "cell_type": "markdown",
   "metadata": {},
   "source": [
    " #### Año 2003"
   ]
  },
  {
   "cell_type": "code",
   "execution_count": 29,
   "metadata": {},
   "outputs": [],
   "source": [
    "# todo uncomment\n",
    "# get_year(df, 2003)[:3]\n"
   ]
  },
  {
   "cell_type": "markdown",
   "metadata": {},
   "source": [
    " #### En 2003 se comprueba que no hay tiempos de paso intermedios, sino solamente el tiempo total. Sus observaciones pueden aportar información al análisis. Actualizaremos la columna ```Arrivee``` con el valor de ```Time```."
   ]
  },
  {
   "cell_type": "code",
   "execution_count": 30,
   "metadata": {},
   "outputs": [],
   "source": [
    "# mascara\n",
    "# preparasmo una máscara\n",
    "mask = df.Year == 2003\n",
    "# actualizamos Arrivee\n",
    "df.loc[mask, 'Arrivee'] = df.loc[mask, 'Time']\n",
    "# todo uncomment\n",
    "#get_year(df, 2003)[:3]\n"
   ]
  },
  {
   "cell_type": "markdown",
   "metadata": {},
   "source": [
    " #### Año 2010"
   ]
  },
  {
   "cell_type": "code",
   "execution_count": 31,
   "metadata": {},
   "outputs": [
    {
     "data": {
      "text/html": [
       "<div>\n",
       "<style scoped>\n",
       "    .dataframe tbody tr th:only-of-type {\n",
       "        vertical-align: middle;\n",
       "    }\n",
       "\n",
       "    .dataframe tbody tr th {\n",
       "        vertical-align: top;\n",
       "    }\n",
       "\n",
       "    .dataframe thead th {\n",
       "        text-align: right;\n",
       "    }\n",
       "</style>\n",
       "<table border=\"1\" class=\"dataframe\">\n",
       "  <thead>\n",
       "    <tr style=\"text-align: right;\">\n",
       "      <th></th>\n",
       "      <th>Id</th>\n",
       "      <th>Year</th>\n",
       "      <th>Bib</th>\n",
       "      <th>Name</th>\n",
       "      <th>Rank</th>\n",
       "      <th>Category</th>\n",
       "      <th>Team</th>\n",
       "      <th>Nationality</th>\n",
       "      <th>Time</th>\n",
       "      <th>Delevret</th>\n",
       "      <th>StGervais</th>\n",
       "    </tr>\n",
       "  </thead>\n",
       "  <tbody>\n",
       "    <tr>\n",
       "      <th>12876</th>\n",
       "      <td>0</td>\n",
       "      <td>2010</td>\n",
       "      <td>2216</td>\n",
       "      <td>CLEMENT Benoît</td>\n",
       "      <td>1</td>\n",
       "      <td>V1 H</td>\n",
       "      <td></td>\n",
       "      <td></td>\n",
       "      <td>0 days</td>\n",
       "      <td>01:53:45</td>\n",
       "      <td>02:52:44</td>\n",
       "    </tr>\n",
       "    <tr>\n",
       "      <th>12877</th>\n",
       "      <td>1</td>\n",
       "      <td>2010</td>\n",
       "      <td>3018</td>\n",
       "      <td>AGUETTAZ Christophe</td>\n",
       "      <td>2</td>\n",
       "      <td>V1 H</td>\n",
       "      <td></td>\n",
       "      <td></td>\n",
       "      <td>0 days</td>\n",
       "      <td>01:57:42</td>\n",
       "      <td>03:00:38</td>\n",
       "    </tr>\n",
       "    <tr>\n",
       "      <th>12878</th>\n",
       "      <td>2</td>\n",
       "      <td>2010</td>\n",
       "      <td>3913</td>\n",
       "      <td>PECH Philippe</td>\n",
       "      <td>3</td>\n",
       "      <td>V1 H</td>\n",
       "      <td></td>\n",
       "      <td></td>\n",
       "      <td>0 days</td>\n",
       "      <td>01:55:20</td>\n",
       "      <td>02:52:30</td>\n",
       "    </tr>\n",
       "  </tbody>\n",
       "</table>\n",
       "</div>"
      ],
      "text/plain": [
       "       Id  Year   Bib                 Name  Rank Category Team Nationality  \\\n",
       "12876   0  2010  2216       CLEMENT Benoît     1     V1 H                    \n",
       "12877   1  2010  3018  AGUETTAZ Christophe     2     V1 H                    \n",
       "12878   2  2010  3913        PECH Philippe     3     V1 H                    \n",
       "\n",
       "        Time Delevret StGervais  \n",
       "12876 0 days 01:53:45  02:52:44  \n",
       "12877 0 days 01:57:42  03:00:38  \n",
       "12878 0 days 01:55:20  02:52:30  "
      ]
     },
     "execution_count": 34,
     "metadata": {},
     "output_type": "execute_result"
    }
   ],
   "source": [
    "get_year(df, 2010)[:3]\n"
   ]
  },
  {
   "cell_type": "markdown",
   "metadata": {},
   "source": [
    " #### 2010 no es un gran año para nuestra tarea de análisis, solo hay dos columnas de paso y no hay tiempo total. Mantendremos las observaciones porque pueden ser útiles para el análisis de participantes cuando no se requieran tiempos."
   ]
  },
  {
   "cell_type": "markdown",
   "metadata": {},
   "source": [
    " #### Por último, examinamos todos los años para comprobar su calidad –al menos las de las primeras filas–."
   ]
  },
  {
   "cell_type": "code",
   "execution_count": 32,
   "metadata": {},
   "outputs": [
    {
     "name": "stdout",
     "output_type": "stream",
     "text": [
      "2003\n",
      "2004\n",
      "2005\n",
      "2006\n",
      "2007\n",
      "2008\n",
      "2009\n",
      "2010\n",
      "2011\n",
      "2013\n",
      "2014\n",
      "2015\n",
      "2016\n",
      "2017\n"
     ]
    }
   ],
   "source": [
    "years = np.arange(2003, 2018)\n",
    "for y in years:\n",
    "    if y != 2012:\n",
    "        # todo del print\n",
    "        print(y)\n",
    "        # todo uncomment\n",
    "        # display(get_year(df, y).head(3))\n"
   ]
  },
  {
   "cell_type": "markdown",
   "metadata": {},
   "source": [
    " #### New kid in town! Todo parece correcto excepto un tiempo de paso negativo en el año 2005 para el corredor con dorsal 1 en Contamines. Revisemos los tiempos negativos."
   ]
  },
  {
   "cell_type": "code",
   "execution_count": 33,
   "metadata": {},
   "outputs": [
    {
     "data": {
      "text/plain": [
       "Courmayeur    41\n",
       "Contamines     3\n",
       "ColDeVoza      2\n",
       "Tseppes        1\n",
       "LaFouly        1\n",
       "dtype: int64"
      ]
     },
     "metadata": {},
     "output_type": "display_data"
    }
   ],
   "source": [
    "# recuperamos los datos de tiempos por posición\n",
    "# sabiendo que son consecutivos\n",
    "cronos = df[list(df)[8:]]\n",
    "\n",
    "#función auxiliar reutilizable\n",
    "\n",
    "\n",
    "def check_less_than_0(cronos):\n",
    "    # filtramos tiempos negativos y no nans\n",
    "    less_than_0 = (cronos < pd.Timedelta(0)) & pd.notna(cronos)\n",
    "    # sumamos el resultado para contarlos (suma de booleanos)\n",
    "    totals_lt0 = less_than_0.sum().copy()\n",
    "    # guardamos los que tienen al menos un valor negativo ordenadamente\n",
    "    totals_gt0 = totals_lt0[totals_lt0 > 0].sort_values(ascending=False)\n",
    "    display(totals_gt0)\n",
    "    return totals_gt0.index.values\n",
    "\n",
    "\n",
    "cols_lt0 = check_less_than_0(cronos)\n"
   ]
  },
  {
   "cell_type": "markdown",
   "metadata": {},
   "source": [
    " #### No son muchos, pero no es correcto dejarlos en el dataframe. Los ponemos a  ```nan```."
   ]
  },
  {
   "cell_type": "code",
   "execution_count": 34,
   "metadata": {},
   "outputs": [
    {
     "data": {
      "text/plain": [
       "Series([], dtype: int64)"
      ]
     },
     "metadata": {},
     "output_type": "display_data"
    },
    {
     "data": {
      "text/plain": [
       "array([], dtype=object)"
      ]
     },
     "execution_count": 37,
     "metadata": {},
     "output_type": "execute_result"
    }
   ],
   "source": [
    "for col in cols_lt0:\n",
    "    mask = (cronos[col] < pd.Timedelta(0)) & pd.notna(cronos[col])\n",
    "    df.loc[mask, col] = np.nan\n",
    "\n",
    "cronos = df[list(df)[8:]]\n",
    "check_less_than_0(cronos)\n"
   ]
  },
  {
   "cell_type": "markdown",
   "metadata": {},
   "source": [
    " #### Vamos a ver ahora la calidad de la variable Nationality."
   ]
  },
  {
   "cell_type": "code",
   "execution_count": 35,
   "metadata": {},
   "outputs": [
    {
     "data": {
      "text/plain": [
       "Nationality\n",
       "      14601\n",
       "fr     7938\n",
       "es     1591\n",
       "it     1116\n",
       "gb      888\n",
       "Name: Nationality, dtype: int64"
      ]
     },
     "metadata": {},
     "output_type": "display_data"
    },
    {
     "data": {
      "text/plain": [
       "Nationality\n",
       "by    1\n",
       "pa    1\n",
       "cy    1\n",
       "ne    1\n",
       "bn    1\n",
       "Name: Nationality, dtype: int64"
      ]
     },
     "metadata": {},
     "output_type": "display_data"
    },
    {
     "data": {
      "text/plain": [
       "array([' ', 'fr', 'es', 'it', 'gb', 'jp', 'de', 'ch', 'us', 'be', 'pl',\n",
       "       'pt', 'cn', 'hk', 'au', 'at', 'se', 'hu', 'ca', 'nl', 'gr', 'ie',\n",
       "       'ar', 'dk', 'cz', 'hr', 'ro', 'br', 'si', 'lv', 'fi', 'lu', 'sk',\n",
       "       'sg', 'tr', 'no', 'bg', 'cl', 'nz', 'is', 'ru', 'mx', 'za', 'ph',\n",
       "       'kr', 'co', 'my', 'tn', 'ec', 'tw', 'il', 'np', 've', 'in', 'ua',\n",
       "       'gt', 'pe', 'lt', 'rs', 'id', 'ba', 'uy', 'ma', 'th', 'mk', 'lb',\n",
       "       'py', 'cr', 'ir', 'dz', 'ad', 'ge', 'sv', 'sm', 'vn', 'ee', 'mt',\n",
       "       'mu', 'bo', 'me', 'by', 'pa', 'cy', 'ne', 'bn'], dtype=object)"
      ]
     },
     "metadata": {},
     "output_type": "display_data"
    }
   ],
   "source": [
    "# pasamos todos los valores a minúsculas\n",
    "df.Nationality = df.Nationality.str.lower()\n",
    "# agrupamos, contamos y ordenamos los países\n",
    "countries = df.groupby('Nationality')[\n",
    "    'Nationality'].count().sort_values(ascending=False)\n",
    "# mostramos los primeros\n",
    "display(countries[:5])\n",
    "# mostramos los últimos\n",
    "display(countries[-5:])\n",
    "# mostramos todos los valores\n",
    "display(countries.index.values)\n"
   ]
  },
  {
   "cell_type": "markdown",
   "metadata": {},
   "source": [
    " #### **¡Cuidado!**, hay un país con un espacio en blanco como código. Lo tendremos en cuenta más adelante."
   ]
  },
  {
   "cell_type": "markdown",
   "metadata": {},
   "source": [
    " #### Revisamos las categorías. En los listados de arriba se veían algunas categorías con espacios."
   ]
  },
  {
   "cell_type": "code",
   "execution_count": 36,
   "metadata": {},
   "outputs": [
    {
     "data": {
      "text/plain": [
       "Category\n",
       "esf       5\n",
       "esh      79\n",
       "juh       3\n",
       "sef     947\n",
       "seh    9645\n",
       "Name: Category, dtype: int64"
      ]
     },
     "metadata": {},
     "output_type": "display_data"
    },
    {
     "data": {
      "text/plain": [
       "Category\n",
       "v2h    5185\n",
       "v3f      48\n",
       "v3h     809\n",
       "v4f       1\n",
       "v4h      51\n",
       "Name: Category, dtype: int64"
      ]
     },
     "metadata": {},
     "output_type": "display_data"
    },
    {
     "data": {
      "text/plain": [
       "array(['esf', 'esh', 'juh', 'sef', 'seh', 'v1f', 'v1h', 'v2f', 'v2h',\n",
       "       'v3f', 'v3h', 'v4f', 'v4h'], dtype=object)"
      ]
     },
     "metadata": {},
     "output_type": "display_data"
    }
   ],
   "source": [
    "# pasamos todos los valores a minúsculas\n",
    "df.Category = df.Category.str.lower()\n",
    "# eliminamos los espacios\n",
    "df.Category = df.Category.str.replace(' ', '')\n",
    "# agrupamos, contamos y ordenamos los países\n",
    "categories = df.groupby('Category')['Category'].count()\n",
    "# mostramos los primeros\n",
    "display(categories[:5])\n",
    "# mostramos los últimos\n",
    "display(categories[-5:])\n",
    "# mostramos todos los valores\n",
    "display(categories.index.values)\n"
   ]
  },
  {
   "cell_type": "markdown",
   "metadata": {},
   "source": [
    " #### La variable categoría está formada por la categoría y el sexo. Vamos a separarlas."
   ]
  },
  {
   "cell_type": "code",
   "execution_count": 37,
   "metadata": {},
   "outputs": [
    {
     "data": {
      "text/plain": [
       "0    h\n",
       "1    h\n",
       "2    h\n",
       "Name: Sex, dtype: object"
      ]
     },
     "metadata": {},
     "output_type": "display_data"
    }
   ],
   "source": [
    "# creamos la columna sex cogiendo el ultimo carácter de category\n",
    "df['Sex'] = df.Category.str[2]\n",
    "display(df['Sex'][:3])\n",
    "# suprimimos el sexo de categoría\n",
    "df['Category'] = df.Category.str[:2]\n",
    "# por conveniencia, reordenamos las columnas insertando el sexo en el índice 8\n",
    "# para mantener los timedeltas juntos al final del dataframe\n",
    "cols = list(df)\n",
    "cols.remove('Sex')\n",
    "cols.insert(8, 'Sex')\n",
    "df = df[cols]\n"
   ]
  },
  {
   "cell_type": "markdown",
   "metadata": {},
   "source": [
    " #### Guardamos los resultados en un nuevo csv para seguir la exploración en otro notebook."
   ]
  },
  {
   "cell_type": "code",
   "execution_count": 38,
   "metadata": {},
   "outputs": [],
   "source": [
    "file = '.\\\\data\\\\utmb.2.csv'\n",
    "df.to_csv(file, index=False)\n"
   ]
  },
  {
   "cell_type": "code",
   "execution_count": 39,
   "metadata": {},
   "outputs": [],
   "source": []
  }
 ],
 "metadata": {
  "file_extension": ".py",
  "kernelspec": {
   "display_name": "Python 3",
   "language": "python",
   "name": "python3"
  },
  "language_info": {
   "codemirror_mode": {
    "name": "ipython",
    "version": 3
   },
   "file_extension": ".py",
   "mimetype": "text/x-python",
   "name": "python",
   "nbconvert_exporter": "python",
   "pygments_lexer": "ipython3",
   "version": "3.7.2"
  },
  "mimetype": "text/x-python",
  "name": "python",
  "npconvert_exporter": "python",
  "pygments_lexer": "ipython3",
  "version": 3
 },
 "nbformat": 4,
 "nbformat_minor": 2
}
