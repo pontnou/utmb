{
 "cells": [
  {
   "cell_type": "markdown",
   "metadata": {},
   "source": [
    " # Introducción"
   ]
  },
  {
   "cell_type": "markdown",
   "metadata": {},
   "source": [
    " ###### Ir a [Lectura y preparación de datos](https://github.com/pontnou/utmb/blob/master/umtb.1.ipynb \"Parte 1\")."
   ]
  },
  {
   "cell_type": "markdown",
   "metadata": {},
   "source": [
    " ### La Ultratrail del MontBlanc es una carrera que se celebra anualmente en los Alpes y que discurre alrededor del Pico Montblanc. Discurre por Francia, Italia y Suiza en un recorrido de 170 km que, en muchos tramos, discurre a más de 2.500 m de altura, con un desnivel positivo acumulado de más de 10.000 m. [Aquí](https://utmbmontblanc.com/es/UTMB \"UTMB\") disponéis del enlace a la web de la carrera y más abajo se muestran un par de imágenes."
   ]
  },
  {
   "cell_type": "markdown",
   "metadata": {},
   "source": [
    " ### Para realizar el análisis se ha partido de un juego de 15 ficheros csv descargados de [Kaggle](https://www.kaggle.com/ceruleansea/ultratrail-du-montblanc-20032017 \"Ultra-Trail du Mont-Blanc 2003-2017 the most prestigious ultra-trail marathon in the world\"). Debido a la extensión del trabajo se ha divido en cuatro partes:\n",
    " ### 0. [Introducción(este mismo)](https://github.com/pontnou/utmb/blob/master/umtb.0.ipynb \"Parte 0\")\n",
    " ### 1. [Lectura y preparación de datos](https://github.com/pontnou/utmb/blob/master/umtb.1.ipynb \"Parte 1\")\n",
    " ### 2. [Exploración](https://github.com/pontnou/utmb/blob/master/umtb.2.ipynb \"Parte 2\")\n",
    " ### 3. [Visualización](https://github.com/pontnou/utmb/blob/master/umtb.3.ipynb \"Parte 3\")"
   ]
  },
  {
   "cell_type": "markdown",
   "metadata": {},
   "source": [
    " ### Los cuatro notebooks están disponibles en mi página de [Github](https://github.com/pontnou \"Pontnou\"). El 1 se alimenta de los datos originales descargados de kaggle y genera el fichero ```utmb.1.csv``` que sirve de entrada al apartado 2. Éste, a su vez, genera el fichero ```utmb.2.csv``` utilizado por el notebook de visualización. Están enlazados con hiperlinks para facilitar la visualización del análisis."
   ]
  },
  {
   "cell_type": "markdown",
   "metadata": {},
   "source": [
    " ![alt text][logo]\n",
    " [logo]: https://utmbmontblanc.com/photos/contenus/parcours_profils/2018/UTMBcarte2018.jpg \"Mapa\""
   ]
  },
  {
   "cell_type": "markdown",
   "metadata": {},
   "source": [
    " ![alt text][logo]\n",
    " [logo]: https://utmbmontblanc.com/photos/contenus/parcours_profils/2018/utmb_profil_2018.png \"Perfil \""
   ]
  }
 ],
 "metadata": {
  "file_extension": ".py",
  "kernelspec": {
   "display_name": "Python 3",
   "language": "python",
   "name": "python3"
  },
  "language_info": {
   "codemirror_mode": {
    "name": "ipython",
    "version": 3
   },
   "file_extension": ".py",
   "mimetype": "text/x-python",
   "name": "python",
   "nbconvert_exporter": "python",
   "pygments_lexer": "ipython3",
   "version": "3.7.2"
  },
  "mimetype": "text/x-python",
  "name": "python",
  "npconvert_exporter": "python",
  "pygments_lexer": "ipython3",
  "version": 3
 },
 "nbformat": 4,
 "nbformat_minor": 2
}
